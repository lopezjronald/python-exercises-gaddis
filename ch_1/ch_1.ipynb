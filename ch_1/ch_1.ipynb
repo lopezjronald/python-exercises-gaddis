{
 "cells": [
  {
   "cell_type": "code",
   "execution_count": 2,
   "outputs": [],
   "source": [
    "name_prompt = \"Full Name: \"\n",
    "address_prompt = \"Street Address: \"\n",
    "city_prompt = \"City: \"\n",
    "state_prompt = \"State: \"\n",
    "zip_code_prompt = \"Zip Code: \"\n",
    "phone_prompt = \"Phone: \"\n",
    "college_major_prompt = \"College Major: \""
   ],
   "metadata": {
    "collapsed": false,
    "pycharm": {
     "name": "#%%\n"
    }
   }
  },
  {
   "cell_type": "code",
   "execution_count": 4,
   "outputs": [],
   "source": [
    "full_name = input(name_prompt)\n",
    "street_address = input(address_prompt)\n",
    "city = input(city_prompt)\n",
    "state = input(state_prompt)\n",
    "zip_code = input(zip_code_prompt)\n",
    "phone_number = input(phone_prompt)\n",
    "college_major = input(college_major_prompt)"
   ],
   "metadata": {
    "collapsed": false,
    "pycharm": {
     "name": "#%%\n"
    }
   }
  },
  {
   "cell_type": "code",
   "execution_count": 6,
   "outputs": [
    {
     "name": "stdout",
     "output_type": "stream",
     "text": [
      "Name: Ronald Lopez\n",
      "Street Address: 555 Street St, City View, ZZ 55555\n",
      "Phone Number: 555-555-5555\n",
      "College Major: Programming\n"
     ]
    }
   ],
   "source": [
    "print(f\"\"\"Name: {full_name}\n",
    "Street Address: {street_address}, {city}, {state} {zip_code}\n",
    "Phone Number: {phone_number}\n",
    "College Major: {college_major}\"\"\")"
   ],
   "metadata": {
    "collapsed": false,
    "pycharm": {
     "name": "#%%\n"
    }
   }
  },
  {
   "cell_type": "code",
   "execution_count": 7,
   "outputs": [
    {
     "data": {
      "text/plain": "'\\n2. Sales Prediction\\nA company has determined that its annual profit is typically 23 percent of total sales. Write\\na program that asks the user to enter the projected amount of total sales, then displays the\\nprofit that will be made from that amount.\\nHint: Use the value 0.23 to represent 23 percent.\\n'"
     },
     "execution_count": 7,
     "metadata": {},
     "output_type": "execute_result"
    }
   ],
   "source": [
    "\"\"\"\n",
    "2. Sales Prediction\n",
    "A company has determined that its annual profit is typically 23 percent of total sales. Write\n",
    "a program that asks the user to enter the projected amount of total sales, then displays the\n",
    "profit that will be made from that amount.\n",
    "Hint: Use the value 0.23 to represent 23 percent.\n",
    "\"\"\""
   ],
   "metadata": {
    "collapsed": false,
    "pycharm": {
     "name": "#%%\n"
    }
   }
  },
  {
   "cell_type": "code",
   "execution_count": 25,
   "outputs": [],
   "source": [
    "ANNUAL_PROF_PERCENTAGE = 0.23\n",
    "amount_prompt = \"Enter the projected amount of total sales:\"\n",
    "amount = input(amount_prompt)\n",
    "try:\n",
    "    amount = int(amount)\n",
    "except:\n",
    "    print(f\"Sorry! You have entered an invalid entry\")\n",
    "    profit = (1 + ANNUAL_PROF_PERCENTAGE) * amount\n",
    "    print(f\"\"\"Projected profit at {100 * ANNUAL_PROF_PERCENTAGE}% is ${profit:.2f}\"\"\")"
   ],
   "metadata": {
    "collapsed": false,
    "pycharm": {
     "name": "#%%\n"
    }
   }
  },
  {
   "cell_type": "code",
   "execution_count": 23,
   "outputs": [
    {
     "data": {
      "text/plain": "'\\n3. Pounds to Kilograms\\nOne pound is equivalent to 0.454 kilograms. Write a program that asks the user to enter\\nthe mass of an object in pounds and then calculates and displays the mass of the object in\\nkilograms.\\n'"
     },
     "execution_count": 23,
     "metadata": {},
     "output_type": "execute_result"
    }
   ],
   "source": [
    "\"\"\"\n",
    "3. Pounds to Kilograms\n",
    "One pound is equivalent to 0.454 kilograms. Write a program that asks the user to enter\n",
    "the mass of an object in pounds and then calculates and displays the mass of the object in\n",
    "kilograms.\n",
    "\"\"\""
   ],
   "metadata": {
    "collapsed": false,
    "pycharm": {
     "name": "#%%\n"
    }
   }
  },
  {
   "cell_type": "code",
   "execution_count": 24,
   "outputs": [
    {
     "name": "stdout",
     "output_type": "stream",
     "text": [
      "You have entered an invalid entry.\n"
     ]
    },
    {
     "ename": "TypeError",
     "evalue": "can't multiply sequence by non-int of type 'float'",
     "output_type": "error",
     "traceback": [
      "\u001B[1;31m---------------------------------------------------------------------------\u001B[0m",
      "\u001B[1;31mValueError\u001B[0m                                Traceback (most recent call last)",
      "\u001B[1;32m<ipython-input-24-b3bef139dd89>\u001B[0m in \u001B[0;36m<module>\u001B[1;34m\u001B[0m\n\u001B[0;32m      4\u001B[0m \u001B[1;32mtry\u001B[0m\u001B[1;33m:\u001B[0m\u001B[1;33m\u001B[0m\u001B[1;33m\u001B[0m\u001B[0m\n\u001B[1;32m----> 5\u001B[1;33m     \u001B[0mlbs\u001B[0m \u001B[1;33m=\u001B[0m \u001B[0mfloat\u001B[0m\u001B[1;33m(\u001B[0m\u001B[0mlbs\u001B[0m\u001B[1;33m)\u001B[0m\u001B[1;33m\u001B[0m\u001B[1;33m\u001B[0m\u001B[0m\n\u001B[0m\u001B[0;32m      6\u001B[0m \u001B[1;32mexcept\u001B[0m\u001B[1;33m:\u001B[0m\u001B[1;33m\u001B[0m\u001B[1;33m\u001B[0m\u001B[0m\n",
      "\u001B[1;31mValueError\u001B[0m: could not convert string to float: 'd'",
      "\nDuring handling of the above exception, another exception occurred:\n",
      "\u001B[1;31mTypeError\u001B[0m                                 Traceback (most recent call last)",
      "\u001B[1;32m<ipython-input-24-b3bef139dd89>\u001B[0m in \u001B[0;36m<module>\u001B[1;34m\u001B[0m\n\u001B[0;32m      6\u001B[0m \u001B[1;32mexcept\u001B[0m\u001B[1;33m:\u001B[0m\u001B[1;33m\u001B[0m\u001B[1;33m\u001B[0m\u001B[0m\n\u001B[0;32m      7\u001B[0m     \u001B[0mprint\u001B[0m\u001B[1;33m(\u001B[0m\u001B[1;34m\"You have entered an invalid entry.\"\u001B[0m\u001B[1;33m)\u001B[0m\u001B[1;33m\u001B[0m\u001B[1;33m\u001B[0m\u001B[0m\n\u001B[1;32m----> 8\u001B[1;33m     \u001B[0mprint\u001B[0m\u001B[1;33m(\u001B[0m\u001B[1;34mf\"\"\"{lbs} converts to {lbs * KG_TO_LBS_RATE:.4f}\"\"\"\u001B[0m\u001B[1;33m)\u001B[0m\u001B[1;33m\u001B[0m\u001B[1;33m\u001B[0m\u001B[0m\n\u001B[0m",
      "\u001B[1;31mTypeError\u001B[0m: can't multiply sequence by non-int of type 'float'"
     ]
    }
   ],
   "source": [
    "KG_TO_LBS_RATE = 0.454\n",
    "lbs_prompt = \"Please enter the pound amount you want to convert into kilograms: \"\n",
    "lbs = input(lbs_prompt)\n",
    "try:\n",
    "    lbs = float(lbs)\n",
    "except:\n",
    "    print(\"You have entered an invalid entry.\")\n",
    "    print(f\"\"\"{lbs} converts to {lbs * KG_TO_LBS_RATE:.4f}\"\"\")"
   ],
   "metadata": {
    "collapsed": false,
    "pycharm": {
     "name": "#%%\n"
    }
   }
  },
  {
   "cell_type": "code",
   "execution_count": null,
   "outputs": [],
   "source": [],
   "metadata": {
    "collapsed": false,
    "pycharm": {
     "name": "#%%\n"
    }
   }
  }
 ],
 "metadata": {
  "kernelspec": {
   "display_name": "Python 3",
   "language": "python",
   "name": "python3"
  },
  "language_info": {
   "codemirror_mode": {
    "name": "ipython",
    "version": 2
   },
   "file_extension": ".py",
   "mimetype": "text/x-python",
   "name": "python",
   "nbconvert_exporter": "python",
   "pygments_lexer": "ipython2",
   "version": "2.7.6"
  },
  "pycharm": {
   "stem_cell": {
    "cell_type": "raw",
    "source": [
     "1. Personal Information\n",
     "Write a program that displays the following information:\n",
     "• Your name\n",
     "• Your address, with city, state, and ZIP\n",
     "• Your telephone number\n",
     "• Your college major"
    ],
    "metadata": {
     "collapsed": false
    }
   }
  }
 },
 "nbformat": 4,
 "nbformat_minor": 0
}