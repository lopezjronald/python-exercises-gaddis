{
 "cells": [
  {
   "cell_type": "code",
   "execution_count": null,
   "outputs": [],
   "source": [
    "\"\"\"\n",
    "1. Personal Information\n",
    "Write a program that displays the following information:\n",
    "• Your name\n",
    "• Your address, with city, state, and ZIP\n",
    "• Your telephone number\n",
    "• Your college major\n",
    "\"\"\""
   ],
   "metadata": {
    "collapsed": false,
    "pycharm": {
     "name": "#%%\n"
    }
   }
  },
  {
   "cell_type": "code",
   "execution_count": 11,
   "outputs": [],
   "source": [
    "name_prompt = \"Full Name: \"\n",
    "address_prompt = \"Street Address: \"\n",
    "city_prompt = \"City: \"\n",
    "state_prompt = \"State: \"\n",
    "zip_code_prompt = \"Zip Code: \"\n",
    "phone_prompt = \"Phone: \"\n",
    "college_major_prompt = \"College Major: \""
   ],
   "metadata": {
    "collapsed": false,
    "pycharm": {
     "name": "#%%\n"
    }
   }
  },
  {
   "cell_type": "code",
   "execution_count": 12,
   "outputs": [],
   "source": [
    "full_name = input(name_prompt)\n",
    "street_address = input(address_prompt)\n",
    "city = input(city_prompt)\n",
    "state = input(state_prompt)\n",
    "zip_code = input(zip_code_prompt)\n",
    "phone_number = input(phone_prompt)\n",
    "college_major = input(college_major_prompt)"
   ],
   "metadata": {
    "collapsed": false,
    "pycharm": {
     "name": "#%%\n"
    }
   }
  },
  {
   "cell_type": "code",
   "execution_count": 13,
   "outputs": [
    {
     "name": "stdout",
     "output_type": "stream",
     "text": [
      "Name: \n",
      "Street Address: , ,  \n",
      "Phone Number: \n",
      "College Major: \n"
     ]
    }
   ],
   "source": [
    "print(f\"\"\"Name: {full_name}\n",
    "Street Address: {street_address}, {city}, {state} {zip_code}\n",
    "Phone Number: {phone_number}\n",
    "College Major: {college_major}\"\"\")"
   ],
   "metadata": {
    "collapsed": false,
    "pycharm": {
     "name": "#%%\n"
    }
   }
  },
  {
   "cell_type": "code",
   "execution_count": 14,
   "outputs": [
    {
     "data": {
      "text/plain": "'\\n2. Sales Prediction\\nA company has determined that its annual profit is typically 23 percent of total sales. Write\\na program that asks the user to enter the projected amount of total sales, then displays the\\nprofit that will be made from that amount.\\nHint: Use the value 0.23 to represent 23 percent.\\n'"
     },
     "execution_count": 14,
     "metadata": {},
     "output_type": "execute_result"
    }
   ],
   "source": [
    "\"\"\"\n",
    "2. Sales Prediction\n",
    "A company has determined that its annual profit is typically 23 percent of total sales. Write\n",
    "a program that asks the user to enter the projected amount of total sales, then displays the\n",
    "profit that will be made from that amount.\n",
    "Hint: Use the value 0.23 to represent 23 percent.\n",
    "\"\"\""
   ],
   "metadata": {
    "collapsed": false,
    "pycharm": {
     "name": "#%%\n"
    }
   }
  },
  {
   "cell_type": "code",
   "execution_count": 15,
   "outputs": [
    {
     "name": "stdout",
     "output_type": "stream",
     "text": [
      "Sorry! You have entered an invalid entry\n",
      "Sorry! You have entered an invalid entry\n",
      "Sorry! You have entered an invalid entry\n",
      "Sorry! You have entered an invalid entry\n",
      "Sorry! You have entered an invalid entry\n",
      "Sorry! You have entered an invalid entry\n",
      "Sorry! You have entered an invalid entry\n",
      "Sorry! You have entered an invalid entry\n",
      "Sorry! You have entered an invalid entry\n",
      "Sorry! You have entered an invalid entry\n",
      "Sorry! You have entered an invalid entry\n",
      "Projected profit at 23.0% is $67.65\n"
     ]
    }
   ],
   "source": [
    "ANNUAL_PROF_PERCENTAGE = 0.23\n",
    "amount_prompt = \"Enter the projected amount of total sales:\"\n",
    "while True:\n",
    "    amount = input(amount_prompt)\n",
    "    try:\n",
    "        amount = int(amount)\n",
    "        break\n",
    "    except:\n",
    "        print(f\"Sorry! You have entered an invalid entry\")\n",
    "profit = (1 + ANNUAL_PROF_PERCENTAGE) * amount\n",
    "print(f\"\"\"Projected profit at {100 * ANNUAL_PROF_PERCENTAGE}% is ${profit:.2f}\"\"\")"
   ],
   "metadata": {
    "collapsed": false,
    "pycharm": {
     "name": "#%%\n"
    }
   }
  },
  {
   "cell_type": "code",
   "execution_count": 16,
   "outputs": [
    {
     "data": {
      "text/plain": "'\\n3. Pounds to Kilograms\\nOne pound is equivalent to 0.454 kilograms. Write a program that asks the user to enter\\nthe mass of an object in pounds and then calculates and displays the mass of the object in\\nkilograms.\\n'"
     },
     "execution_count": 16,
     "metadata": {},
     "output_type": "execute_result"
    }
   ],
   "source": [
    "\"\"\"\n",
    "3. Pounds to Kilograms\n",
    "One pound is equivalent to 0.454 kilograms. Write a program that asks the user to enter\n",
    "the mass of an object in pounds and then calculates and displays the mass of the object in\n",
    "kilograms.\n",
    "\"\"\""
   ],
   "metadata": {
    "collapsed": false,
    "pycharm": {
     "name": "#%%\n"
    }
   }
  },
  {
   "cell_type": "code",
   "execution_count": 17,
   "outputs": [
    {
     "name": "stdout",
     "output_type": "stream",
     "text": [
      "55.0 converts to 24.970\n"
     ]
    }
   ],
   "source": [
    "KG_TO_LBS_RATE = 0.454\n",
    "lbs_prompt = \"Please enter the pound amount you want to convert into kilograms: \"\n",
    "while True:\n",
    "    lbs = input(lbs_prompt)\n",
    "    try:\n",
    "        lbs = float(lbs)\n",
    "        break\n",
    "    except:\n",
    "        print(\"You have entered an invalid entry.\")\n",
    "print(f\"\"\"{lbs} converts to {lbs * KG_TO_LBS_RATE:.3f}\"\"\")"
   ],
   "metadata": {
    "collapsed": false,
    "pycharm": {
     "name": "#%%\n"
    }
   }
  },
  {
   "cell_type": "code",
   "execution_count": 18,
   "outputs": [
    {
     "data": {
      "text/plain": "'\\n4. Total Purchase\\nA customer in a store is purchasing five items. Write a program that asks for the price of\\neach item, then displays the subtotal of the sale, the amount of sales tax, and the total.\\nAssume the sales tax is 7 percent.\\n'"
     },
     "execution_count": 18,
     "metadata": {},
     "output_type": "execute_result"
    }
   ],
   "source": [
    "\"\"\"\n",
    "4. Total Purchase\n",
    "A customer in a store is purchasing five items. Write a program that asks for the price of\n",
    "each item, then displays the subtotal of the sale, the amount of sales tax, and the total.\n",
    "Assume the sales tax is 7 percent.\n",
    "\"\"\""
   ],
   "metadata": {
    "collapsed": false,
    "pycharm": {
     "name": "#%%\n"
    }
   }
  },
  {
   "cell_type": "code",
   "execution_count": 30,
   "outputs": [
    {
     "name": "stdout",
     "output_type": "stream",
     "text": [
      "Sales tax: $7.00\n",
      "Total cost is $107.00\n"
     ]
    }
   ],
   "source": [
    "SALES_TAX = 0.07\n",
    "total = 0\n",
    "TOTAL_ITEMS = 5\n",
    "for i in range(1, 6):\n",
    "    while True:\n",
    "        response = input(f\"Please enter the price for item #{i}: \")\n",
    "        try:\n",
    "            response = float(response)\n",
    "        except:\n",
    "\n",
    "            print(f'Sorry. {response} is an invalid entry')\n",
    "            continue\n",
    "        total += response\n",
    "        break\n",
    "total_tax = SALES_TAX * total\n",
    "print(f\"Sales tax: ${total_tax:.2f}\")\n",
    "print(f\"Total cost is ${(total_tax + total):.2f}\")\n"
   ],
   "metadata": {
    "collapsed": false,
    "pycharm": {
     "name": "#%%\n"
    }
   }
  },
  {
   "cell_type": "code",
   "execution_count": 32,
   "outputs": [
    {
     "data": {
      "text/plain": "'\\n5. Distance Traveled\\nAssuming there are no accidents or delays, the distance that a car\\ntravels down the interstate can be calculated with the following formula:\\nDistance 5 Speed 3 Time\\nA car is traveling at 70 miles per hour. Write a program that displays the following:\\n• The distance the car will travel in 6 hours\\n• The distance the car will travel in 10 hours\\n• The distance the car will travel in 15 hours\\n'"
     },
     "execution_count": 32,
     "metadata": {},
     "output_type": "execute_result"
    }
   ],
   "source": [
    "\"\"\"\n",
    "5. Distance Traveled\n",
    "Assuming there are no accidents or delays, the distance that a car\n",
    "travels down the interstate can be calculated with the following formula:\n",
    "Distance = Speed X Time\n",
    "A car is traveling at 70 miles per hour. Write a program that displays the following:\n",
    "• The distance the car will travel in 6 hours\n",
    "• The distance the car will travel in 10 hours\n",
    "• The distance the car will travel in 15 hours\n",
    "\"\"\""
   ],
   "metadata": {
    "collapsed": false,
    "pycharm": {
     "name": "#%%\n"
    }
   }
  },
  {
   "cell_type": "code",
   "execution_count": 34,
   "outputs": [
    {
     "name": "stdout",
     "output_type": "stream",
     "text": [
      "Sorry! df is an invalid entry.\n",
      "Sorry! f is an invalid entry.\n"
     ]
    }
   ],
   "source": [
    "while True:\n",
    "    speed = input(\"Please enter the speed: \")\n",
    "    try:\n",
    "        speed = float(speed)\n",
    "    except:\n",
    "        print(f\"Sorry! {speed} is an invalid entry.\")\n",
    "        continue\n",
    "    break"
   ],
   "metadata": {
    "collapsed": false,
    "pycharm": {
     "name": "#%%\n"
    }
   }
  },
  {
   "cell_type": "code",
   "execution_count": 35,
   "outputs": [
    {
     "name": "stdout",
     "output_type": "stream",
     "text": [
      "Sorry!  is an invalid entry.\n"
     ]
    }
   ],
   "source": [
    "while True:\n",
    "    time = input(\"Please enter the time in hour: \")\n",
    "    try:\n",
    "        time = float(time)\n",
    "    except:\n",
    "        print(f\"Sorry! {time} is an invalid entry.\")\n",
    "        continue\n",
    "    break"
   ],
   "metadata": {
    "collapsed": false,
    "pycharm": {
     "name": "#%%\n"
    }
   }
  },
  {
   "cell_type": "code",
   "execution_count": 36,
   "outputs": [
    {
     "name": "stdout",
     "output_type": "stream",
     "text": [
      "50.0 x 20.0 = 1000.0\n"
     ]
    }
   ],
   "source": [
    "distance = speed * time\n",
    "print(f\"{speed} x {time} = {distance}\")"
   ],
   "metadata": {
    "collapsed": false,
    "pycharm": {
     "name": "#%%\n"
    }
   }
  },
  {
   "cell_type": "code",
   "execution_count": 37,
   "outputs": [
    {
     "data": {
      "text/plain": "'\\n6. Payment Instalments\\nWrite a program that asks the user to enter the amount of a purchase and the desired\\nnumber of payment instalments. The program should add 5 percent to the amount to get\\nthe total purchase amount, and then divide it by the desired number of instalments, then\\ndisplay messages telling the user the total amount of the purchase and how much each\\ninstalment will cost.\\n'"
     },
     "execution_count": 37,
     "metadata": {},
     "output_type": "execute_result"
    }
   ],
   "source": [
    "\"\"\"\n",
    "6. Payment Instalments\n",
    "Write a program that asks the user to enter the amount of a purchase and the desired\n",
    "number of payment installments. The program should add 5 percent to the amount to get\n",
    "the total purchase amount, and then divide it by the desired number of installments, then\n",
    "display messages telling the user the total amount of the purchase and how much each\n",
    "installment will cost.\n",
    "\"\"\""
   ],
   "metadata": {
    "collapsed": false,
    "pycharm": {
     "name": "#%%\n"
    }
   }
  },
  {
   "cell_type": "code",
   "execution_count": 65,
   "outputs": [],
   "source": [
    "INTEREST = 0.05\n",
    "installment_payments = 0\n",
    "amount = 0\n",
    "total = 0"
   ],
   "metadata": {
    "collapsed": false,
    "pycharm": {
     "name": "#%%\n"
    }
   }
  },
  {
   "cell_type": "code",
   "execution_count": 66,
   "outputs": [],
   "source": [
    "while True:\n",
    "    amount = input(\"Please enter the desired amount: \")\n",
    "    try:\n",
    "        amount = float(amount)\n",
    "    except:\n",
    "        print(f\"{amount} is an invalid entry\")\n",
    "        continue\n",
    "    break"
   ],
   "metadata": {
    "collapsed": false,
    "pycharm": {
     "name": "#%%\n"
    }
   }
  },
  {
   "cell_type": "code",
   "execution_count": 67,
   "outputs": [],
   "source": [
    "while True:\n",
    "    installment_payments = input(\"Please enter the desired installment payments: \")\n",
    "    try:\n",
    "        installment_payments = int(installment_payments)\n",
    "    except:\n",
    "        print(f\"{installment_payments} is an invalid entry\")\n",
    "        continue\n",
    "    break"
   ],
   "metadata": {
    "collapsed": false,
    "pycharm": {
     "name": "#%%\n"
    }
   }
  },
  {
   "cell_type": "code",
   "execution_count": 70,
   "outputs": [],
   "source": [
    "total = amount * (1+INTEREST)\n",
    "each_payment = total/installment_payments"
   ],
   "metadata": {
    "collapsed": false,
    "pycharm": {
     "name": "#%%\n"
    }
   }
  },
  {
   "cell_type": "code",
   "execution_count": 71,
   "outputs": [
    {
     "name": "stdout",
     "output_type": "stream",
     "text": [
      "The total amount of $100.00 with 5.0% interest is $105.00\n",
      "With 12 installment payments, each payment will be $8.75\n"
     ]
    }
   ],
   "source": [
    "print(f\"The total amount of ${amount:.2f} with {INTEREST*100:.1f}% interest is ${total:.2f}\")\n",
    "print(f\"With {installment_payments} installment payments, each payment will be ${each_payment:.2f}\")"
   ],
   "metadata": {
    "collapsed": false,
    "pycharm": {
     "name": "#%%\n"
    }
   }
  },
  {
   "cell_type": "code",
   "execution_count": 72,
   "outputs": [
    {
     "data": {
      "text/plain": "105.0"
     },
     "execution_count": 72,
     "metadata": {},
     "output_type": "execute_result"
    }
   ],
   "source": [
    "\n",
    "\n"
   ],
   "metadata": {
    "collapsed": false,
    "pycharm": {
     "name": "#%%\n"
    }
   }
  }
 ],
 "metadata": {
  "kernelspec": {
   "display_name": "Python 3",
   "language": "python",
   "name": "python3"
  },
  "language_info": {
   "codemirror_mode": {
    "name": "ipython",
    "version": 2
   },
   "file_extension": ".py",
   "mimetype": "text/x-python",
   "name": "python",
   "nbconvert_exporter": "python",
   "pygments_lexer": "ipython2",
   "version": "2.7.6"
  }
 },
 "nbformat": 4,
 "nbformat_minor": 0
}