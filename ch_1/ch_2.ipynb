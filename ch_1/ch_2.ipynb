{
 "cells": [
  {
   "cell_type": "code",
   "execution_count": 1,
   "outputs": [
    {
     "data": {
      "text/plain": "'\\n1. Personal Information\\nWrite a program that displays the following information:\\n• Your name\\n• Your address, with city, state, and ZIP\\n• Your telephone number\\n• Your college major\\n'"
     },
     "execution_count": 1,
     "metadata": {},
     "output_type": "execute_result"
    }
   ],
   "source": [
    "import math\n",
    "\"\"\"\n",
    "1. Personal Information\n",
    "Write a program that displays the following information:\n",
    "• Your name\n",
    "• Your address, with city, state, and ZIP\n",
    "• Your telephone number\n",
    "• Your college major\n",
    "\"\"\""
   ],
   "metadata": {
    "collapsed": false,
    "pycharm": {
     "name": "#%%\n"
    }
   }
  },
  {
   "cell_type": "code",
   "execution_count": 2,
   "outputs": [],
   "source": [
    "name_prompt = \"Full Name: \"\n",
    "address_prompt = \"Street Address: \"\n",
    "city_prompt = \"City: \"\n",
    "state_prompt = \"State: \"\n",
    "zip_code_prompt = \"Zip Code: \"\n",
    "phone_prompt = \"Phone: \"\n",
    "college_major_prompt = \"College Major: \""
   ],
   "metadata": {
    "collapsed": false,
    "pycharm": {
     "name": "#%%\n"
    }
   }
  },
  {
   "cell_type": "code",
   "execution_count": 3,
   "outputs": [],
   "source": [
    "full_name = input(name_prompt)\n",
    "street_address = input(address_prompt)\n",
    "city = input(city_prompt)\n",
    "state = input(state_prompt)\n",
    "zip_code = input(zip_code_prompt)\n",
    "phone_number = input(phone_prompt)\n",
    "college_major = input(college_major_prompt)"
   ],
   "metadata": {
    "collapsed": false,
    "pycharm": {
     "name": "#%%\n"
    }
   }
  },
  {
   "cell_type": "code",
   "execution_count": 4,
   "outputs": [
    {
     "name": "stdout",
     "output_type": "stream",
     "text": [
      "Name: ron\n",
      "Street Address: d, d, d d\n",
      "Phone Number: d\n",
      "College Major: \n"
     ]
    }
   ],
   "source": [
    "print(f\"\"\"Name: {full_name}\n",
    "Street Address: {street_address}, {city}, {state} {zip_code}\n",
    "Phone Number: {phone_number}\n",
    "College Major: {college_major}\"\"\")"
   ],
   "metadata": {
    "collapsed": false,
    "pycharm": {
     "name": "#%%\n"
    }
   }
  },
  {
   "cell_type": "code",
   "execution_count": 5,
   "outputs": [
    {
     "data": {
      "text/plain": "'\\n2. Sales Prediction\\nA company has determined that its annual profit is typically 23 percent of total sales. Write\\na program that asks the user to enter the projected amount of total sales, then displays the\\nprofit that will be made from that amount.\\nHint: Use the value 0.23 to represent 23 percent.\\n'"
     },
     "execution_count": 5,
     "metadata": {},
     "output_type": "execute_result"
    }
   ],
   "source": [
    "\"\"\"\n",
    "2. Sales Prediction\n",
    "A company has determined that its annual profit is typically 23 percent of total sales. Write\n",
    "a program that asks the user to enter the projected amount of total sales, then displays the\n",
    "profit that will be made from that amount.\n",
    "Hint: Use the value 0.23 to represent 23 percent.\n",
    "\"\"\""
   ],
   "metadata": {
    "collapsed": false,
    "pycharm": {
     "name": "#%%\n"
    }
   }
  },
  {
   "cell_type": "code",
   "execution_count": 6,
   "outputs": [
    {
     "name": "stdout",
     "output_type": "stream",
     "text": [
      "Sorry! You have entered an invalid entry\n",
      "Sorry! You have entered an invalid entry\n",
      "Sorry! You have entered an invalid entry\n",
      "Projected profit at 23.0% is $6.15\n"
     ]
    }
   ],
   "source": [
    "ANNUAL_PROF_PERCENTAGE = 0.23\n",
    "amount_prompt = \"Enter the projected amount of total sales:\"\n",
    "while True:\n",
    "    amount = input(amount_prompt)\n",
    "    try:\n",
    "        amount = int(amount)\n",
    "        break\n",
    "    except:\n",
    "        print(f\"Sorry! You have entered an invalid entry\")\n",
    "profit = (1 + ANNUAL_PROF_PERCENTAGE) * amount\n",
    "print(f\"\"\"Projected profit at {100 * ANNUAL_PROF_PERCENTAGE}% is ${profit:.2f}\"\"\")"
   ],
   "metadata": {
    "collapsed": false,
    "pycharm": {
     "name": "#%%\n"
    }
   }
  },
  {
   "cell_type": "code",
   "execution_count": 7,
   "outputs": [
    {
     "data": {
      "text/plain": "'\\n3. Pounds to Kilograms\\nOne pound is equivalent to 0.454 kilograms. Write a program that asks the user to enter\\nthe mass of an object in pounds and then calculates and displays the mass of the object in\\nkilograms.\\n'"
     },
     "execution_count": 7,
     "metadata": {},
     "output_type": "execute_result"
    }
   ],
   "source": [
    "\"\"\"\n",
    "3. Pounds to Kilograms\n",
    "One pound is equivalent to 0.454 kilograms. Write a program that asks the user to enter\n",
    "the mass of an object in pounds and then calculates and displays the mass of the object in\n",
    "kilograms.\n",
    "\"\"\""
   ],
   "metadata": {
    "collapsed": false,
    "pycharm": {
     "name": "#%%\n"
    }
   }
  },
  {
   "cell_type": "code",
   "execution_count": 8,
   "outputs": [
    {
     "name": "stdout",
     "output_type": "stream",
     "text": [
      "5.0 converts to 2.270\n"
     ]
    }
   ],
   "source": [
    "KG_TO_LBS_RATE = 0.454\n",
    "lbs_prompt = \"Please enter the pound amount you want to convert into kilograms: \"\n",
    "while True:\n",
    "    lbs = input(lbs_prompt)\n",
    "    try:\n",
    "        lbs = float(lbs)\n",
    "        break\n",
    "    except:\n",
    "        print(\"You have entered an invalid entry.\")\n",
    "print(f\"\"\"{lbs} converts to {lbs * KG_TO_LBS_RATE:.3f}\"\"\")"
   ],
   "metadata": {
    "collapsed": false,
    "pycharm": {
     "name": "#%%\n"
    }
   }
  },
  {
   "cell_type": "code",
   "execution_count": 9,
   "outputs": [
    {
     "data": {
      "text/plain": "'\\n4. Total Purchase\\nA customer in a store is purchasing five items. Write a program that asks for the price of\\neach item, then displays the subtotal of the sale, the amount of sales tax, and the total.\\nAssume the sales tax is 7 percent.\\n'"
     },
     "execution_count": 9,
     "metadata": {},
     "output_type": "execute_result"
    }
   ],
   "source": [
    "\"\"\"\n",
    "4. Total Purchase\n",
    "A customer in a store is purchasing five items. Write a program that asks for the price of\n",
    "each item, then displays the subtotal of the sale, the amount of sales tax, and the total.\n",
    "Assume the sales tax is 7 percent.\n",
    "\"\"\""
   ],
   "metadata": {
    "collapsed": false,
    "pycharm": {
     "name": "#%%\n"
    }
   }
  },
  {
   "cell_type": "code",
   "execution_count": 10,
   "outputs": [
    {
     "name": "stdout",
     "output_type": "stream",
     "text": [
      "Sales tax: $1.75\n",
      "Total cost is $26.75\n"
     ]
    }
   ],
   "source": [
    "SALES_TAX = 0.07\n",
    "total = 0\n",
    "TOTAL_ITEMS = 5\n",
    "for i in range(1, 6):\n",
    "    while True:\n",
    "        response = input(f\"Please enter the price for item #{i}: \")\n",
    "        try:\n",
    "            response = float(response)\n",
    "        except:\n",
    "\n",
    "            print(f'Sorry. {response} is an invalid entry')\n",
    "            continue\n",
    "        total += response\n",
    "        break\n",
    "total_tax = SALES_TAX * total\n",
    "print(f\"Sales tax: ${total_tax:.2f}\")\n",
    "print(f\"Total cost is ${(total_tax + total):.2f}\")\n"
   ],
   "metadata": {
    "collapsed": false,
    "pycharm": {
     "name": "#%%\n"
    }
   }
  },
  {
   "cell_type": "code",
   "execution_count": 11,
   "outputs": [
    {
     "data": {
      "text/plain": "'\\n5. Distance Traveled\\nAssuming there are no accidents or delays, the distance that a car\\ntravels down the interstate can be calculated with the following formula:\\nDistance = Speed X Time\\nA car is traveling at 70 miles per hour. Write a program that displays the following:\\n• The distance the car will travel in 6 hours\\n• The distance the car will travel in 10 hours\\n• The distance the car will travel in 15 hours\\n'"
     },
     "execution_count": 11,
     "metadata": {},
     "output_type": "execute_result"
    }
   ],
   "source": [
    "\"\"\"\n",
    "5. Distance Traveled\n",
    "Assuming there are no accidents or delays, the distance that a car\n",
    "travels down the interstate can be calculated with the following formula:\n",
    "Distance = Speed X Time\n",
    "A car is traveling at 70 miles per hour. Write a program that displays the following:\n",
    "• The distance the car will travel in 6 hours\n",
    "• The distance the car will travel in 10 hours\n",
    "• The distance the car will travel in 15 hours\n",
    "\"\"\""
   ],
   "metadata": {
    "collapsed": false,
    "pycharm": {
     "name": "#%%\n"
    }
   }
  },
  {
   "cell_type": "code",
   "execution_count": 12,
   "outputs": [],
   "source": [
    "while True:\n",
    "    speed = input(\"Please enter the speed: \")\n",
    "    try:\n",
    "        speed = float(speed)\n",
    "    except:\n",
    "        print(f\"Sorry! {speed} is an invalid entry.\")\n",
    "        continue\n",
    "    break"
   ],
   "metadata": {
    "collapsed": false,
    "pycharm": {
     "name": "#%%\n"
    }
   }
  },
  {
   "cell_type": "code",
   "execution_count": 13,
   "outputs": [],
   "source": [
    "while True:\n",
    "    time = input(\"Please enter the time in hour: \")\n",
    "    try:\n",
    "        time = float(time)\n",
    "    except:\n",
    "        print(f\"Sorry! {time} is an invalid entry.\")\n",
    "        continue\n",
    "    break"
   ],
   "metadata": {
    "collapsed": false,
    "pycharm": {
     "name": "#%%\n"
    }
   }
  },
  {
   "cell_type": "code",
   "execution_count": 14,
   "outputs": [
    {
     "name": "stdout",
     "output_type": "stream",
     "text": [
      "5.0 x 5.0 = 25.0\n"
     ]
    }
   ],
   "source": [
    "distance = speed * time\n",
    "print(f\"{speed} x {time} = {distance}\")"
   ],
   "metadata": {
    "collapsed": false,
    "pycharm": {
     "name": "#%%\n"
    }
   }
  },
  {
   "cell_type": "code",
   "execution_count": 15,
   "outputs": [
    {
     "data": {
      "text/plain": "'\\n6. Payment Instalments\\nWrite a program that asks the user to enter the amount of a purchase and the desired\\nnumber of payment installments. The program should add 5 percent to the amount to get\\nthe total purchase amount, and then divide it by the desired number of installments, then\\ndisplay messages telling the user the total amount of the purchase and how much each\\ninstallment will cost.\\n'"
     },
     "execution_count": 15,
     "metadata": {},
     "output_type": "execute_result"
    }
   ],
   "source": [
    "\"\"\"\n",
    "6. Payment Instalments\n",
    "Write a program that asks the user to enter the amount of a purchase and the desired\n",
    "number of payment installments. The program should add 5 percent to the amount to get\n",
    "the total purchase amount, and then divide it by the desired number of installments, then\n",
    "display messages telling the user the total amount of the purchase and how much each\n",
    "installment will cost.\n",
    "\"\"\""
   ],
   "metadata": {
    "collapsed": false,
    "pycharm": {
     "name": "#%%\n"
    }
   }
  },
  {
   "cell_type": "code",
   "execution_count": 16,
   "outputs": [],
   "source": [
    "INTEREST = 0.05\n",
    "installment_payments = 0\n",
    "amount = 0\n",
    "total = 0"
   ],
   "metadata": {
    "collapsed": false,
    "pycharm": {
     "name": "#%%\n"
    }
   }
  },
  {
   "cell_type": "code",
   "execution_count": 17,
   "outputs": [],
   "source": [
    "while True:\n",
    "    amount = input(\"Please enter the desired amount: \")\n",
    "    try:\n",
    "        amount = float(amount)\n",
    "    except:\n",
    "        print(f\"{amount} is an invalid entry\")\n",
    "        continue\n",
    "    break"
   ],
   "metadata": {
    "collapsed": false,
    "pycharm": {
     "name": "#%%\n"
    }
   }
  },
  {
   "cell_type": "code",
   "execution_count": 18,
   "outputs": [],
   "source": [
    "while True:\n",
    "    installment_payments = input(\"Please enter the desired installment payments: \")\n",
    "    try:\n",
    "        installment_payments = int(installment_payments)\n",
    "    except:\n",
    "        print(f\"{installment_payments} is an invalid entry\")\n",
    "        continue\n",
    "    break"
   ],
   "metadata": {
    "collapsed": false,
    "pycharm": {
     "name": "#%%\n"
    }
   }
  },
  {
   "cell_type": "code",
   "execution_count": 19,
   "outputs": [],
   "source": [
    "total = amount * (1+INTEREST)\n",
    "each_payment = total/installment_payments"
   ],
   "metadata": {
    "collapsed": false,
    "pycharm": {
     "name": "#%%\n"
    }
   }
  },
  {
   "cell_type": "code",
   "execution_count": 20,
   "outputs": [
    {
     "name": "stdout",
     "output_type": "stream",
     "text": [
      "The total amount of $5.00 with 5.0% interest is $5.25\n",
      "With 6 installment payments, each payment will be $0.88\n"
     ]
    }
   ],
   "source": [
    "print(f\"The total amount of ${amount:.2f} with {INTEREST*100:.1f}% interest is ${total:.2f}\")\n",
    "print(f\"With {installment_payments} installment payments, each payment will be ${each_payment:.2f}\")"
   ],
   "metadata": {
    "collapsed": false,
    "pycharm": {
     "name": "#%%\n"
    }
   }
  },
  {
   "cell_type": "code",
   "execution_count": 21,
   "outputs": [],
   "source": [
    "\"\"\"\n",
    "7. Miles-per-Gallon\n",
    "A car's miles-per-gallon (MPG) can be calculated with the following formula:\n",
    "MPG = Miles driven / Gallons of gas used\n",
    "Write a program that asks the user for the number of miles driven and the gallons of gas\n",
    "used. It should calculate the car's MPG and display the result.\n",
    "\"\"\"\n",
    "\n",
    "import easygui\n",
    "miles = None\n",
    "gallons = None\n",
    "while True:\n",
    "    miles = input(\"Please enter the miles driven: \")\n",
    "    try:\n",
    "        miles = float(miles)\n",
    "    except:\n",
    "        easygui.msgbox(f'Sorry. {miles} is an invalid entry')\n",
    "        continue\n",
    "    break"
   ],
   "metadata": {
    "collapsed": false,
    "pycharm": {
     "name": "#%%\n"
    }
   }
  },
  {
   "cell_type": "code",
   "execution_count": 22,
   "outputs": [],
   "source": [
    "while True:\n",
    "    gallons = input(\"Please enter amount of gallons used: \")\n",
    "    try:\n",
    "        gallons = int(gallons)\n",
    "    except:\n",
    "        easygui.msgbox(f'Sorry. {gallons} is an invalid entry')\n",
    "        continue\n",
    "    break"
   ],
   "metadata": {
    "collapsed": false,
    "pycharm": {
     "name": "#%%\n"
    }
   }
  },
  {
   "cell_type": "code",
   "execution_count": 23,
   "outputs": [
    {
     "data": {
      "text/plain": "'OK'"
     },
     "execution_count": 23,
     "metadata": {},
     "output_type": "execute_result"
    }
   ],
   "source": [
    "\n",
    "easygui.msgbox(f\"{miles:.1f} miles with {gallons} gallons is {miles/gallons:.2f} MPG\", 'MPG Conversion')"
   ],
   "metadata": {
    "collapsed": false,
    "pycharm": {
     "name": "#%%\n"
    }
   }
  },
  {
   "cell_type": "code",
   "execution_count": 24,
   "outputs": [
    {
     "data": {
      "text/plain": "'\\n8. Tip, Tax, and Total\\nWrite a program that calculates the total amount of a meal purchased at a restaurant. The\\nprogram should ask the user to enter the charge for the food, then calculate the amounts\\nof a 18 percent tip and 7 percent sales tax. Display each of these amounts and the total.\\n'"
     },
     "execution_count": 24,
     "metadata": {},
     "output_type": "execute_result"
    }
   ],
   "source": [
    "\"\"\"\n",
    "8. Tip, Tax, and Total\n",
    "Write a program that calculates the total amount of a meal purchased at a restaurant. The\n",
    "program should ask the user to enter the charge for the food, then calculate the amounts\n",
    "of a 18 percent tip and 7 percent sales tax. Display each of these amounts and the total.\n",
    "\"\"\""
   ],
   "metadata": {
    "collapsed": false,
    "pycharm": {
     "name": "#%%\n"
    }
   }
  },
  {
   "cell_type": "code",
   "execution_count": 25,
   "outputs": [
    {
     "data": {
      "text/plain": "'OK'"
     },
     "execution_count": 25,
     "metadata": {},
     "output_type": "execute_result"
    }
   ],
   "source": [
    "TIP = 0.18\n",
    "SALES_TAX = 0.07\n",
    "total = None\n",
    "\n",
    "while True:\n",
    "    total = input(\"Please enter the meal total: \")\n",
    "    try:\n",
    "        total = float(total)\n",
    "    except:\n",
    "        easygui.msgbox(f\"{total} is an invalid entry\")\n",
    "        continue\n",
    "    break\n",
    "tip_amount = TIP * total\n",
    "tax_amount = SALES_TAX * total\n",
    "total += (tip_amount + tax_amount)\n",
    "easygui.msgbox(f\"Tip: $ {tip_amount:.2f}, Tax: $ {tax_amount:.2f}, Total: {total:.2f}\")"
   ],
   "metadata": {
    "collapsed": false,
    "pycharm": {
     "name": "#%%\n"
    }
   }
  },
  {
   "cell_type": "code",
   "execution_count": 26,
   "outputs": [
    {
     "data": {
      "text/plain": "'\\n9. Circle Measurements\\nWrite a program that asks the user to enter the radius of a circle. The program should calculate\\nand display the area and circumference of the circle using πr2 for the area and 2πr\\nfor the circumference.\\nHint: You can either use 3.14159 as the value of pi (π), or add the statement \"import math\"\\nto the start of the program and then use \"math.pi\" wherever you need the value of pi in\\nthe program.\\n'"
     },
     "execution_count": 26,
     "metadata": {},
     "output_type": "execute_result"
    }
   ],
   "source": [
    "\"\"\"\n",
    "9. Circle Measurements\n",
    "Write a program that asks the user to enter the radius of a circle. The program should calculate\n",
    "and display the area and circumference of the circle using πr2 for the area and 2πr\n",
    "for the circumference.\n",
    "Hint: You can either use 3.14159 as the value of pi (π), or add the statement \"import math\"\n",
    "to the start of the program and then use \"math.pi\" wherever you need the value of pi in\n",
    "the program.\n",
    "\"\"\""
   ],
   "metadata": {
    "collapsed": false,
    "pycharm": {
     "name": "#%%\n"
    }
   }
  },
  {
   "cell_type": "code",
   "execution_count": 27,
   "outputs": [
    {
     "data": {
      "text/plain": "'OK'"
     },
     "execution_count": 27,
     "metadata": {},
     "output_type": "execute_result"
    }
   ],
   "source": [
    "import cmath\n",
    "radius = None\n",
    "\n",
    "while True:\n",
    "    radius = input(\"What is the radius of the circle: \")\n",
    "    try:\n",
    "        radius = float(radius)\n",
    "        break\n",
    "    except:\n",
    "        easygui.msgbox(f\"{radius} is an invalid entry\", \"Invalid Entry\")\n",
    "        continue\n",
    "circumference = 2 * cmath.pi * radius\n",
    "area = cmath.pi * (radius ** 2)\n",
    "easygui.msgbox(f\"Circumference with a radius of {radius} is {circumference:.3f}, Area: {area:.3f}\", \"Circumference & Area\")"
   ],
   "metadata": {
    "collapsed": false,
    "pycharm": {
     "name": "#%%\n"
    }
   }
  },
  {
   "cell_type": "code",
   "execution_count": 28,
   "outputs": [
    {
     "data": {
      "text/plain": "'OK'"
     },
     "execution_count": 28,
     "metadata": {},
     "output_type": "execute_result"
    }
   ],
   "source": [
    "\"\"\"\n",
    "10. Ingredient Adjuster\n",
    "A cookie recipe calls for the following ingredients:\n",
    "• 1.5 cups of sugar\n",
    "• 1 cup of butter\n",
    "• 2.75 cups of flour\n",
    "The recipe produces 48 cookies with this amount of the ingredients. Write a program that\n",
    "asks the user how many cookies he or she wants to make, then displays the number of cups\n",
    "of each ingredient needed for the specified number of cookies.\n",
    "\"\"\"\n",
    "CUPS_OF_SUGAR = 1.5/48\n",
    "CUPS_OF_BUTTER = 1/48\n",
    "CUPS_OF_FLOUR = 2.75/48\n",
    "make_cookies = True\n",
    "cookies = None\n",
    "while make_cookies:\n",
    "    cookies = input(\"How many cookies would you like to make: \")\n",
    "    try:\n",
    "        cookies = int(cookies)\n",
    "        make_cookies = False\n",
    "    except:\n",
    "        easygui.msgbox(f\"Sorry. {cookies} is an invalid entry.\", \"Invalid entry\")\n",
    "easygui.msgbox(f\"\"\"To make {cookies} cookie(s), you will need:\n",
    "\\t- {cookies * CUPS_OF_FLOUR:.2f} Cups of Flour\n",
    "\\t- {cookies * CUPS_OF_SUGAR:.2f} Cups of Sugar\n",
    "\\t- {cookies * CUPS_OF_BUTTER:.2f} Cups of Butter\"\"\")"
   ],
   "metadata": {
    "collapsed": false,
    "pycharm": {
     "name": "#%%\n"
    }
   }
  },
  {
   "cell_type": "code",
   "execution_count": 29,
   "outputs": [
    {
     "data": {
      "text/plain": "'\\n11. Male and Female Percentages\\nWrite a program that asks the user for the number of males and the number of females registered\\nin a class. The program should display the percentage of males and females in the class.\\nHint: Suppose there are 8 males and 12 females in a class. There are 20 students in the\\nclass. The percentage of males can be calculated as 8 ÷ 20 = 0.4, or 40%. The percentage\\nof females can be calculated as 12 ÷ 20 = 0.6, or 60%.\\n'"
     },
     "execution_count": 29,
     "metadata": {},
     "output_type": "execute_result"
    }
   ],
   "source": [
    "\"\"\"\n",
    "11. Male and Female Percentages\n",
    "Write a program that asks the user for the number of males and the number of females registered\n",
    "in a class. The program should display the percentage of males and females in the class.\n",
    "Hint: Suppose there are 8 males and 12 females in a class. There are 20 students in the\n",
    "class. The percentage of males can be calculated as 8 ÷ 20 = 0.4, or 40%. The percentage\n",
    "of females can be calculated as 12 ÷ 20 = 0.6, or 60%.\n",
    "\"\"\""
   ],
   "metadata": {
    "collapsed": false,
    "pycharm": {
     "name": "#%%\n"
    }
   }
  },
  {
   "cell_type": "code",
   "execution_count": 30,
   "outputs": [
    {
     "data": {
      "text/plain": "'OK'"
     },
     "execution_count": 30,
     "metadata": {},
     "output_type": "execute_result"
    }
   ],
   "source": [
    "males = None\n",
    "females = None\n",
    "ask_class = True\n",
    "while ask_class:\n",
    "    males = input(\"How many males are there in class: \")\n",
    "    try:\n",
    "        males = int(males)\n",
    "        ask_class = False\n",
    "    except:\n",
    "        easygui.msgbox(\"Sorry, {males} is an invalid entry\", \"Invalid entry\")\n",
    "        continue\n",
    "\n",
    "ask_class = True\n",
    "while ask_class:\n",
    "    females = input(\"How many females are there in class: \")\n",
    "    try:\n",
    "        females = int(females)\n",
    "        ask_class = False\n",
    "    except:\n",
    "        easygui.msgbox(f\"Sorry, {females} is an invalid entry\", \"Invalid entry\")\n",
    "        continue\n",
    "\n",
    "easygui.msgbox(f\"Results:\\nFemales: {females}, {females/(females+males)*100:.2f}%\"\n",
    "               f\"\\nMales: {males}, {males/(males+females)*100:.2f}%\")"
   ],
   "metadata": {
    "collapsed": false,
    "pycharm": {
     "name": "#%%\n"
    }
   }
  },
  {
   "cell_type": "code",
   "execution_count": 31,
   "outputs": [
    {
     "data": {
      "text/plain": "'\\n12. Stock Transaction Program\\nLast month, Joe purchased some stock in Acme Software, Inc. Here are the details\\nof the purchase:\\n• The number of shares that Joe purchased was 2,000.\\n• When Joe purchased the stock, he paid $40.00 per share.\\n• Joe paid his stockbroker a commission that amounted to 3 percent of the amount\\nhe paid for the stock.\\nTwo weeks later, Joe sold the stock. Here are the details of the sale:\\n• The number of shares that Joe sold was 2,000.\\n• He sold the stock for $42.75 per share.\\n• He paid his stockbroker another commission that amounted to 3 percent of\\nthe amount he received for the stock.\\nWrite a program that displays the following information:\\n• The amount of money Joe paid for the stock.\\n• The amount of commission Joe paid his broker when he bought the stock.\\n• The amount for which Joe sold the stock.\\n• The amount of commission Joe paid his broker when he sold the stock.\\n• Display the amount of money that Joe had left when he sold the stock and\\npaid his broker (both times). If this amount is positive, then\\nJoe made a profit. If the amount is negative, then Joe lost money.\\n'"
     },
     "execution_count": 31,
     "metadata": {},
     "output_type": "execute_result"
    }
   ],
   "source": [
    "\"\"\"\n",
    "12. Stock Transaction Program\n",
    "Last month, Joe purchased some stock in Acme Software, Inc. Here are the details\n",
    "of the purchase:\n",
    "• The number of shares that Joe purchased was 2,000.\n",
    "• When Joe purchased the stock, he paid $40.00 per share.\n",
    "• Joe paid his stockbroker a commission that amounted to 3 percent of the amount\n",
    "he paid for the stock.\n",
    "Two weeks later, Joe sold the stock. Here are the details of the sale:\n",
    "• The number of shares that Joe sold was 2,000.\n",
    "• He sold the stock for $42.75 per share.\n",
    "• He paid his stockbroker another commission that amounted to 3 percent of\n",
    "the amount he received for the stock.\n",
    "Write a program that displays the following information:\n",
    "• The amount of money Joe paid for the stock.\n",
    "• The amount of commission Joe paid his broker when he bought the stock.\n",
    "• The amount for which Joe sold the stock.\n",
    "• The amount of commission Joe paid his broker when he sold the stock.\n",
    "• Display the amount of money that Joe had left when he sold the stock and\n",
    "paid his broker (both times). If this amount is positive, then\n",
    "Joe made a profit. If the amount is negative, then Joe lost money.\n",
    "\"\"\""
   ],
   "metadata": {
    "collapsed": false,
    "pycharm": {
     "name": "#%%\n"
    }
   }
  },
  {
   "cell_type": "code",
   "execution_count": 32,
   "outputs": [
    {
     "data": {
      "text/plain": "'OK'"
     },
     "execution_count": 32,
     "metadata": {},
     "output_type": "execute_result"
    }
   ],
   "source": [
    "present_value = 40.00\n",
    "shares = 2000\n",
    "commission_fee = 0.03\n",
    "buy = present_value * shares\n",
    "buying_commissioning_fees = commission_fee * (present_value * shares)\n",
    "easygui.msgbox(f\"Joe purchased {shares:,.0f} shares at ${present_value:,.2f} per share equaling \"\n",
    "               f\"at $ {buy:,.2f} and paid a commission fee of \"\n",
    "               f\"$ {buying_commissioning_fees:,.2f}.\")"
   ],
   "metadata": {
    "collapsed": false,
    "pycharm": {
     "name": "#%%\n"
    }
   }
  },
  {
   "cell_type": "code",
   "execution_count": 33,
   "outputs": [
    {
     "data": {
      "text/plain": "'OK'"
     },
     "execution_count": 33,
     "metadata": {},
     "output_type": "execute_result"
    }
   ],
   "source": [
    "future_value = 42.75\n",
    "sell = future_value * shares\n",
    "selling_commission_fees = commission_fee * (future_value * shares)\n",
    "easygui.msgbox(f\"Joe sold {shares:,.0f} of his shares at ${future_value:,.2f} \"\n",
    "               f\"per share equaling at ${sell:,.2f} and paid \"\n",
    "               f\"a commission fee of ${selling_commission_fees:,.2f}.\")\n",
    "total_fees = buying_commissioning_fees + selling_commission_fees\n",
    "profit = sell - buy - total_fees\n",
    "easygui.msgbox(f\"Total fees: {total_fees:,.2f}\"\n",
    "               f\"\\nPurchase Total: ${buy:,.2f}\"\n",
    "               f\"\\nSell Total: ${sell:,.2f}\"\n",
    "               f\"\\n{sell:,.2f} - {buy:,.2f} - {total_fees:,.2f} = ${profit:,.2f}\", \"Results\")"
   ],
   "metadata": {
    "collapsed": false,
    "pycharm": {
     "name": "#%%\n"
    }
   }
  },
  {
   "cell_type": "code",
   "execution_count": 34,
   "outputs": [],
   "source": [
    "\n",
    "if profit < 0:\n",
    "    easygui.msgbox(f\"Joe had a loss of -${-profit:,.2f}\")\n",
    "elif profit == 0:\n",
    "    easygui.msgbox(f\"Joe broke even in his investment\")\n",
    "else:\n",
    "    easygui.msgbox(f\"Joe had a profit of ${profit:,.2f}\")"
   ],
   "metadata": {
    "collapsed": false,
    "pycharm": {
     "name": "#%%\n"
    }
   }
  },
  {
   "cell_type": "code",
   "execution_count": 35,
   "outputs": [
    {
     "data": {
      "text/plain": "'OK'"
     },
     "execution_count": 35,
     "metadata": {},
     "output_type": "execute_result"
    }
   ],
   "source": [
    "\"\"\"\n",
    "13. Planting Grapevines\n",
    "A vineyard owner is planting several new rows of grapevines, and needs to\n",
    "know how many grapevines to plant in each row. She has determined that after\n",
    "measuring the length of a future row, she can use the following formula to\n",
    "calculate the number of vines that will fit in the row, along with the trellis\n",
    "end-post assemblies that will need to be constructed at each end of the row:\n",
    "\n",
    "V = (R-2E)/S\n",
    "\n",
    "The terms in the formula are:\n",
    "V is the number of grapevines that will fit in the row.\n",
    "R is the length of the row, in feet.\n",
    "E is the amount of space, in feet, used by an end-post assembly.\n",
    "S is the space between vines, in feet.\n",
    "\n",
    "Write a program that makes the calculation for the vineyard owner. The program should\n",
    "ask the user to input the following:\n",
    "\n",
    "• The length of the row, in feet\n",
    "• The amount of space used by an end-post assembly, in feet\n",
    "• The amount of space between the vines, in feet\n",
    "\n",
    "Once the input data has been entered, the program should calculate and display the number\n",
    "of grapevines that will fit in the row.\n",
    "\"\"\"\n",
    "row_length = None\n",
    "end_post_space = None\n",
    "space_between_vines = None\n",
    "\n",
    "\n",
    "ask_length = True\n",
    "while ask_length:\n",
    "    row_length = input(\"Length of Row in Feet: \")\n",
    "    try:\n",
    "        row_length = float(row_length)\n",
    "        ask_length = False\n",
    "    except:\n",
    "        easygui.msgbox(f\"{row_length} is an invalid entry\", \"Invalid Entry\")\n",
    "        continue\n",
    "\n",
    "ask_end_post_space = True\n",
    "while ask_end_post_space:\n",
    "    end_post_space = input(\"Amount of space, in feet, used by an end-post assembly: \")\n",
    "    try:\n",
    "        end_post_space = float(end_post_space)\n",
    "        ask_end_post_space = False\n",
    "    except:\n",
    "        easygui.msgbox(f\"{end_post_space} is an invalid entry\", \"Invalid Entry\")\n",
    "        continue\n",
    "\n",
    "ask_vine_space = True\n",
    "while ask_vine_space:\n",
    "    space_between_vines = input(\"Amount of space, in feet, used by an end-post assembly: \")\n",
    "    try:\n",
    "        space_between_vines = float(space_between_vines)\n",
    "        ask_vine_space = False\n",
    "    except:\n",
    "        easygui.msgbox(f\"{space_between_vines} is an invalid entry\", \"Invalid Entry\")\n",
    "        continue\n",
    "\n",
    "total_grapevines = (row_length - (2 * end_post_space)) / space_between_vines\n",
    "easygui.msgbox(f\"Number of grapevines that will fit: {total_grapevines:,.1f}\", \"Results\")\n"
   ],
   "metadata": {
    "collapsed": false,
    "pycharm": {
     "name": "#%%\n"
    }
   }
  },
  {
   "cell_type": "code",
   "execution_count": 42,
   "outputs": [],
   "source": [
    "\"\"\"\n",
    "14. Compound Interest\n",
    "When a bank account pays compound interest, it pays interest not only on the principal\n",
    "amount that was deposited into the account, but also on the interest that has accumulated\n",
    "over time. Suppose you want to deposit some money into a savings account, and let the\n",
    "account earn compound interest for a certain number of years. The formula for calculating\n",
    "the balance of the account after a specified number of years is:\n",
    "\n",
    "A = P * ( 1 + (r/n) )^(nt)\n",
    "\n",
    "The terms in the formula are:\n",
    "A is the amount of money in the account after the specified number of years.\n",
    "P is the principal amount that was originally deposited into the account.\n",
    "r is the annual interest rate.\n",
    "n is the number of times per year that the interest is compounded.\n",
    "t is the specified number of years.\n",
    "\n",
    "Write a program that makes the calculation for you. The program should ask the user to\n",
    "input the following:\n",
    "\n",
    "• The amount of principal originally deposited into the account\n",
    "• The annual interest rate paid by the account\n",
    "• The number of times per year that the interest is compounded (For example, if interest\n",
    "is compounded monthly, enter 12. If interest is compounded quarterly, enter 4.)\n",
    "• The number of years the account will be left to earn interest\n",
    "Once the input data has been entered, the program should calculate and display the amount\n",
    "of money that will be in the account after the specified number of years.\n",
    "NOTE: The user should enter the interest rate as a percentage. For example, 2 percent\n",
    "would be entered as 2, not as .02. The program will then have to divide the input by\n",
    "100 to move the decimal point to the correct position.\n",
    "\"\"\"\n",
    "\n",
    "import math\n",
    "from decimal import Decimal\n",
    "\n",
    "principal = None\n",
    "annual_interest = None\n",
    "total_compound_interest_frequency = None\n",
    "number_of_years = None\n",
    "\n",
    "ask_principal = True\n",
    "while ask_principal:\n",
    "    principal = input(\"Principal Amount: \")\n",
    "    try:\n",
    "        principal = float(principal)\n",
    "        ask_principal = False\n",
    "    except:\n",
    "        easygui.msgbox(\"Invalid entry.\", \"Invalid entry\")\n",
    "        continue\n",
    "\n",
    "ask_annual_interest = True\n",
    "while ask_annual_interest:\n",
    "    annual_interest = input(\"Annual Interest: \")\n",
    "    try:\n",
    "        annual_interest = float(annual_interest)\n",
    "        annual_interest = float(annual_interest/100)\n",
    "        ask_annual_interest = False\n",
    "    except:\n",
    "        easygui.msgbox(\"Invalid entry.\", \"Invalid entry\")\n",
    "        continue\n",
    "\n",
    "ask_compound_interest = True\n",
    "while ask_compound_interest:\n",
    "    total_compound_interest_frequency = input(\"Compound Interest per Year (12 for monthly, 4 quarterly, 1 annually): \")\n",
    "    try:\n",
    "        total_compound_interest_frequency = float(total_compound_interest_frequency)\n",
    "        ask_compound_interest = False\n",
    "    except:\n",
    "        easygui.msgbox(\"Invalid entry.\", \"Invalid entry\")\n",
    "        continue\n",
    "\n",
    "ask_number_of_years = True\n",
    "while ask_number_of_years:\n",
    "    number_of_years = input(\"Number of Years Account will be Left to earn Interest: \")\n",
    "    try:\n",
    "        number_of_years = float(number_of_years)\n",
    "        ask_number_of_years = False\n",
    "    except:\n",
    "        easygui.msgbox(\"Invalid entry.\", \"Invalid entry\")\n",
    "        continue\n",
    "\n",
    "# A = P * ( 1 + (r/n) )^(nt)\n",
    "# r : annual interest\n",
    "# n : number of times per year the interest is compounded\n",
    "# P : principal\n",
    "# t = number of years\n",
    "# A = amount of money in account\n",
    "nt = total_compound_interest_frequency * number_of_years\n",
    "total_compounded_amount = 1 + float(annual_interest/total_compound_interest_frequency)\n",
    "total_compounded_amount = total_compounded_amount**float(nt)\n",
    "total_compounded_amount *= principal"
   ],
   "metadata": {
    "collapsed": false,
    "pycharm": {
     "name": "#%%\n"
    }
   }
  },
  {
   "cell_type": "code",
   "execution_count": 45,
   "outputs": [
    {
     "name": "stdout",
     "output_type": "stream",
     "text": [
      "Total Compounded in the next 20 years: $9,103.77\n"
     ]
    }
   ],
   "source": [
    "print(f\"Total Compounded in the next {int(number_of_years)} years: ${total_compounded_amount:,.2f}\")\n"
   ],
   "metadata": {
    "collapsed": false,
    "pycharm": {
     "name": "#%%\n"
    }
   }
  },
  {
   "cell_type": "code",
   "execution_count": null,
   "outputs": [],
   "source": [],
   "metadata": {
    "collapsed": false,
    "pycharm": {
     "name": "#%%\n"
    }
   }
  }
 ],
 "metadata": {
  "kernelspec": {
   "display_name": "Python 3",
   "language": "python",
   "name": "python3"
  },
  "language_info": {
   "codemirror_mode": {
    "name": "ipython",
    "version": 2
   },
   "file_extension": ".py",
   "mimetype": "text/x-python",
   "name": "python",
   "nbconvert_exporter": "python",
   "pygments_lexer": "ipython2",
   "version": "2.7.6"
  }
 },
 "nbformat": 4,
 "nbformat_minor": 0
}