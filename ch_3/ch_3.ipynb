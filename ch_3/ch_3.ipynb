{
 "cells": [
  {
   "cell_type": "code",
   "execution_count": 1,
   "metadata": {
    "collapsed": true
   },
   "outputs": [],
   "source": [
    "import cmath\n",
    "import math\n",
    "import easygui\n"
   ]
  },
  {
   "cell_type": "code",
   "execution_count": 2,
   "outputs": [
    {
     "data": {
      "text/plain": "'\\n1. Number Analyser\\nWrite a program that asks the user to enter an integer. The program should display\\n“Positive” if the number is greater than 0, “Negative” if the number is less than 0, and\\n“Zero” if the number is equal to 0. The program should then display “Even” if the number\\nis even, and “Odd” if the number is odd.\\n'"
     },
     "execution_count": 2,
     "metadata": {},
     "output_type": "execute_result"
    }
   ],
   "source": [
    "\"\"\"\n",
    "1. Number Analyser\n",
    "Write a program that asks the user to enter an integer. The program should display\n",
    "“Positive” if the number is greater than 0, “Negative” if the number is less than 0, and\n",
    "“Zero” if the number is equal to 0. The program should then display “Even” if the number\n",
    "is even, and “Odd” if the number is odd.\n",
    "\"\"\"\n",
    "\n"
   ],
   "metadata": {
    "collapsed": false,
    "pycharm": {
     "name": "#%%\n"
    }
   }
  },
  {
   "cell_type": "code",
   "execution_count": 3,
   "outputs": [
    {
     "name": "stdout",
     "output_type": "stream",
     "text": [
      "55 is a positive number and is an odd number.\n"
     ]
    }
   ],
   "source": [
    "ask_integer = True\n",
    "integer_number = None\n",
    "while ask_integer:\n",
    "    integer_number = input(\"Please enter an integer: \")\n",
    "    try:\n",
    "        integer_number = int(integer_number)\n",
    "        ask_integer = False\n",
    "    except:\n",
    "        easygui.msgbox(f'Sorry, {integer_number} is an invalid entry', 'Invalid entry')\n",
    "        continue\n",
    "\n",
    "if integer_number == 0:\n",
    "    print(f\"{integer_number} is zero \", end=\"\")\n",
    "elif integer_number > 0:\n",
    "    print(f\"{integer_number} is a positive number \", end=\"\")\n",
    "else:\n",
    "    print(f\"{integer_number} is a negative number \", end=\"\")\n",
    "\n",
    "if integer_number % 2 == 0:\n",
    "    print(\"and is an even number.\")\n",
    "else:\n",
    "    print(\"and is an odd number.\")\n"
   ],
   "metadata": {
    "collapsed": false,
    "pycharm": {
     "name": "#%%\n"
    }
   }
  },
  {
   "cell_type": "code",
   "execution_count": 4,
   "outputs": [
    {
     "data": {
      "text/plain": "'\\n2. Areas of Rectangles\\nThe area of a rectangle is the rectangle’s length times its width. Write a program that asks\\nfor the length and width of two rectangles. The program should tell the user which rectangle\\nhas the greater area, or if the areas are the same.\\n'"
     },
     "execution_count": 4,
     "metadata": {},
     "output_type": "execute_result"
    }
   ],
   "source": [
    "\"\"\"\n",
    "2. Areas of Rectangles\n",
    "The area of a rectangle is the rectangle’s length times its width. Write a program that asks\n",
    "for the length and width of two rectangles. The program should tell the user which rectangle\n",
    "has the greater area, or if the areas are the same.\n",
    "\"\"\""
   ],
   "metadata": {
    "collapsed": false,
    "pycharm": {
     "name": "#%%\n"
    }
   }
  },
  {
   "cell_type": "code",
   "execution_count": 5,
   "outputs": [],
   "source": [
    "rect_length = None\n",
    "rect_width = None\n",
    "ask_sides = True\n",
    "\n",
    "while ask_sides:\n",
    "    rect_length = input(\"Length of rectangle: \")\n",
    "    try:\n",
    "        rect_length = float(rect_length)\n",
    "        ask_sides = False\n",
    "    except:\n",
    "        easygui.msgbox(f\"{rect_length} was an invalid entry.\")\n",
    "        continue\n",
    "\n",
    "ask_sides = True\n",
    "while ask_sides:\n",
    "    rect_width = input(\"Width of rectangle: \")\n",
    "    try:\n",
    "        rect_width = float(rect_width)\n",
    "        ask_sides = False\n",
    "    except:\n",
    "        easygui.msgbox(f\"{rect_width} was an invalid entry.\")\n",
    "        continue\n",
    "\n",
    "\n",
    "if rect_length == rect_width:\n",
    "    easygui.msgbox(f\"This is a square. Area of the square is {rect_length * rect_width:,.2f}.\", \"Result\")\n",
    "elif rect_width > rect_length:\n",
    "    easygui.msgbox(f\"Width is greater than length. The area of the rectangle is {rect_width * rect_length:,.2f}.\", \"Result\")\n",
    "else:\n",
    "    easygui.msgbox(f\"Length is greater than width. The area of the rectangle is {rect_width * rect_length:,.2f}.\", \"Result\")"
   ],
   "metadata": {
    "collapsed": false,
    "pycharm": {
     "name": "#%%\n"
    }
   }
  },
  {
   "cell_type": "code",
   "execution_count": 6,
   "outputs": [
    {
     "data": {
      "text/plain": "'\\n3. Quarter of the Year\\nWrite a program that asks the user for a month as a number between 1 and 12. The\\nprogram should display a message indicating whether the month is in the first quarter,\\nthe second quarter, the third quarter, or the fourth quarter of the year. Following are the\\nguidelines:\\n• If the user enters either 1, 2, or 3, the month is in the first quarter.\\n• If the user enters a number between 4 and 6, the month is in the second quarter.\\n• If the number is either 7, 8, or 9, the month is in the third quarter.\\n• If the month is between 10 and 12, the month is in the fourth quarter.\\n• If the number is not between 1 and 12, the program should display an error.\\n'"
     },
     "execution_count": 6,
     "metadata": {},
     "output_type": "execute_result"
    }
   ],
   "source": [
    "\"\"\"\n",
    "3. Quarter of the Year\n",
    "Write a program that asks the user for a month as a number between 1 and 12. The\n",
    "program should display a message indicating whether the month is in the first quarter,\n",
    "the second quarter, the third quarter, or the fourth quarter of the year. Following are the\n",
    "guidelines:\n",
    "• If the user enters either 1, 2, or 3, the month is in the first quarter.\n",
    "• If the user enters a number between 4 and 6, the month is in the second quarter.\n",
    "• If the number is either 7, 8, or 9, the month is in the third quarter.\n",
    "• If the month is between 10 and 12, the month is in the fourth quarter.\n",
    "• If the number is not between 1 and 12, the program should display an error.\n",
    "\"\"\""
   ],
   "metadata": {
    "collapsed": false,
    "pycharm": {
     "name": "#%%\n"
    }
   }
  },
  {
   "cell_type": "code",
   "execution_count": 8,
   "outputs": [
    {
     "name": "stdout",
     "output_type": "stream",
     "text": [
      "May is in the second quarter\n"
     ]
    }
   ],
   "source": [
    "ask_month = True\n",
    "month = None\n",
    "\n",
    "while ask_month:\n",
    "    month = input(\"Please enter month as integer (Jan: 1, Feb: 2, Mar: 3, ...: \")\n",
    "\n",
    "    try:\n",
    "        month = int(month)\n",
    "    except:\n",
    "        easygui.msgbox(f\"{month} is an invalid entry\", \"Invalid entry\")\n",
    "        continue\n",
    "\n",
    "    if month > 12 or month < 1:\n",
    "        easygui.msgbox(f\"{month} is not between 1-12\")\n",
    "        continue\n",
    "    elif (type(month) == int) and (1 <= month <= 12):\n",
    "        ask_month = False\n",
    "\n",
    "month_name = None\n",
    "if month == 1:\n",
    "    month_name = 'January'\n",
    "elif month == 2:\n",
    "    month_name = 'February'\n",
    "elif month == 3:\n",
    "    month_name = 'March'\n",
    "elif month == 4:\n",
    "    month_name = 'April'\n",
    "elif month == 5:\n",
    "    month_name = 'May'\n",
    "elif month == 6:\n",
    "    month_name = 'June'\n",
    "elif month == 7:\n",
    "    month_name = 'July'\n",
    "elif month == 8:\n",
    "    month_name = 'August'\n",
    "elif month == 9:\n",
    "    month_name = 'September'\n",
    "elif month == 10:\n",
    "    month_name = 'October'\n",
    "elif month == 11:\n",
    "    month_name = 'November'\n",
    "else:\n",
    "    month_name = 'December'\n",
    "\n",
    "if month in range(1, 4):\n",
    "    print(f\"{month_name} is in the first quarter\")\n",
    "elif month in range(4, 7):\n",
    "    print(f\"{month_name} is in the second quarter\")\n",
    "elif month in range(7, 10):\n",
    "    print(f\"{month_name} is in the third quarter\")\n",
    "else:\n",
    "    print(f\"{month_name} is in the fourth quarter\")"
   ],
   "metadata": {
    "collapsed": false,
    "pycharm": {
     "name": "#%%\n"
    }
   }
  },
  {
   "cell_type": "code",
   "execution_count": 9,
   "outputs": [
    {
     "data": {
      "text/plain": "'\\n4. Roman Numerals\\nWrite a program that prompts the user to enter a number within the range of 1 through 10.\\nThe program should display the Roman numeral version of that number. If the number is\\noutside the range of 1 through 10, the program should display an error message. The following\\ntable shows the Roman numerals for the numbers 1 through 10:\\n\\nNumber:     Roman Numeral:\\n1           I\\n2           II\\n3           III\\n4           IV\\n5           V\\n6           VI\\n7           VII\\n8           VIII\\n9           IX\\n10          X\\n'"
     },
     "execution_count": 9,
     "metadata": {},
     "output_type": "execute_result"
    }
   ],
   "source": [
    "\"\"\"\n",
    "4. Roman Numerals\n",
    "Write a program that prompts the user to enter a number within the range of 1 through 10.\n",
    "The program should display the Roman numeral version of that number. If the number is\n",
    "outside the range of 1 through 10, the program should display an error message. The following\n",
    "table shows the Roman numerals for the numbers 1 through 10:\n",
    "\n",
    "Number:     Roman Numeral:\n",
    "1           I\n",
    "2           II\n",
    "3           III\n",
    "4           IV\n",
    "5           V\n",
    "6           VI\n",
    "7           VII\n",
    "8           VIII\n",
    "9           IX\n",
    "10          X\n",
    "\"\"\""
   ],
   "metadata": {
    "collapsed": false,
    "pycharm": {
     "name": "#%%\n"
    }
   }
  },
  {
   "cell_type": "code",
   "execution_count": 13,
   "outputs": [
    {
     "data": {
      "text/plain": "'OK'"
     },
     "execution_count": 13,
     "metadata": {},
     "output_type": "execute_result"
    }
   ],
   "source": [
    "ask_numeral = True\n",
    "number = None\n",
    "\n",
    "while ask_numeral:\n",
    "    number = input(\"Please enter integer between 1-10 for it's Roman numeral value (1: I, 2: II, 3: III, ...: \")\n",
    "\n",
    "    try:\n",
    "        number = int(number)\n",
    "    except:\n",
    "        easygui.msgbox(f\"{number} is an invalid entry\", \"Invalid entry\")\n",
    "        continue\n",
    "\n",
    "    if number > 10 or number < 1:\n",
    "        easygui.msgbox(f\"{number} is not between 1-10\")\n",
    "        continue\n",
    "    elif (type(number) == int) and (1 <= number <= 10):\n",
    "        ask_numeral = False\n",
    "\n",
    "roman_numeral = None\n",
    "if number == 1:\n",
    "    roman_numeral = 'I'\n",
    "elif number == 2:\n",
    "    roman_numeral = 'II'\n",
    "elif number == 3:\n",
    "    roman_numeral = 'III'\n",
    "elif number == 4:\n",
    "    roman_numeral = 'IV'\n",
    "elif number == 5:\n",
    "    roman_numeral = 'V'\n",
    "elif number == 6:\n",
    "    roman_numeral = 'VI'\n",
    "elif number == 7:\n",
    "    roman_numeral = 'VII'\n",
    "elif number == 8:\n",
    "    roman_numeral = 'VIII'\n",
    "elif number == 9:\n",
    "    roman_numeral = 'IX'\n",
    "else:\n",
    "    roman_numeral = 'X'\n",
    "\n",
    "easygui.msgbox(f\"{number} is Roman numeral {roman_numeral}.\", \"Result\")"
   ],
   "metadata": {
    "collapsed": false,
    "pycharm": {
     "name": "#%%\n"
    }
   }
  },
  {
   "cell_type": "code",
   "execution_count": 14,
   "outputs": [
    {
     "data": {
      "text/plain": "'\\n5. Mass and Weight\\nScientists measure an object’s mass in kilograms and its weight in newtons. If you know\\nthe amount of mass of an object in kilograms, you can calculate its weight in newtons with\\nthe following formula:\\n\\nweight = mass x 9.8\\n\\nWrite a program that asks the user to enter an object’s mass, then calculates its weight. If\\nthe object weighs more than 500 newtons, display a message indicating that it is too heavy.\\nIf the object weighs less than 100 newtons, display a message indicating that it is too light.\\n'"
     },
     "execution_count": 14,
     "metadata": {},
     "output_type": "execute_result"
    }
   ],
   "source": [
    "\"\"\"\n",
    "5. Mass and Weight\n",
    "Scientists measure an object’s mass in kilograms and its weight in newtons. If you know\n",
    "the amount of mass of an object in kilograms, you can calculate its weight in newtons with\n",
    "the following formula:\n",
    "\n",
    "weight = mass x 9.8\n",
    "\n",
    "Write a program that asks the user to enter an object’s mass, then calculates its weight. If\n",
    "the object weighs more than 500 newtons, display a message indicating that it is too heavy.\n",
    "If the object weighs less than 100 newtons, display a message indicating that it is too light.\n",
    "\"\"\""
   ],
   "metadata": {
    "collapsed": false,
    "pycharm": {
     "name": "#%%\n"
    }
   }
  },
  {
   "cell_type": "code",
   "execution_count": null,
   "outputs": [],
   "source": [],
   "metadata": {
    "collapsed": false,
    "pycharm": {
     "name": "#%%\n"
    }
   }
  }
 ],
 "metadata": {
  "kernelspec": {
   "display_name": "Python 3",
   "language": "python",
   "name": "python3"
  },
  "language_info": {
   "codemirror_mode": {
    "name": "ipython",
    "version": 2
   },
   "file_extension": ".py",
   "mimetype": "text/x-python",
   "name": "python",
   "nbconvert_exporter": "python",
   "pygments_lexer": "ipython2",
   "version": "2.7.6"
  }
 },
 "nbformat": 4,
 "nbformat_minor": 0
}